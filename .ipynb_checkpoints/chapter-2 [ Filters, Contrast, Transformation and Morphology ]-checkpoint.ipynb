{
 "cells": [
  {
   "cell_type": "markdown",
   "metadata": {},
   "source": [
    "#  📙 Filtering\n",
    "Filtering is a technique for modifying or enhancing an image. In essence, a filter is a mathematical function that is applied to images. It can be used to emphasize or remove certain features, like edges. Smoothing, sharpening and edge detection. So we can say, Filtering is a tecknique for :\n",
    "- Mdifying or enhancing an image.\n",
    "- Emphasize or remove certain features, like edges.\n",
    "- Smoothing, sharpening.\n",
    "- Edge detection\n",
    "\n",
    "Filtering is a neighborhood operation. Where, **Neighborhood** mean: It is a image processing operations involve processing an image in sections, called blocks or neighborhoods, rather than processing the entire image at once. Filtering, histogram equalization for contrast enhancement, and morphological functions, all three of which use this approach.\n",
    "\n",
    "### 📌 Edge Detection\n",
    "With filtering we can detect edges. This technique can be used to find the boundaries of objects within images. As well as segment and extract information like how many coins are in an image. Most of the shape information of an image is enclosed in edges.\n",
    "\n",
    "Edge detection works by detecting discontinuities in brightness. Like in this image, where we spot the chocolate kisses shapes in the image.\n",
    "\n",
    "Original            |  Edges with Sobel\n",
    ":-------------------------:|:-------------------------:\n",
    "![](./sampleImages/Chapter2/originalChocolate.png)  |  ![](./sampleImages/Chapter2/edgeWithSobel.png)\n",
    "\n",
    "<br/>\n",
    "\n",
    "### 📌 Edge Detection Algorithm\n",
    "#### (1) Sobel\n",
    "A common edge detection algorithm is **Sobel**. This is a filter that we can find in scikit image's module filters with the sobel function. We apply the filter by passing the image we want to detect the edges from as parameter. This function requires a 2-dimensional grayscale image as input. So in the case of a colored image, we'll need to convert it to grayscale first. Then, we show the original and the resulting image with a function that uses Matplotlib subplots.\n",
    "\n",
    "```python\n",
    "\n",
    "```"
   ]
  },
  {
   "cell_type": "code",
   "execution_count": null,
   "metadata": {},
   "outputs": [],
   "source": []
  }
 ],
 "metadata": {
  "kernelspec": {
   "display_name": "Python 3",
   "language": "python",
   "name": "python3"
  },
  "language_info": {
   "codemirror_mode": {
    "name": "ipython",
    "version": 3
   },
   "file_extension": ".py",
   "mimetype": "text/x-python",
   "name": "python",
   "nbconvert_exporter": "python",
   "pygments_lexer": "ipython3",
   "version": "3.8.5"
  }
 },
 "nbformat": 4,
 "nbformat_minor": 4
}
